{
 "cells": [
  {
   "cell_type": "code",
   "execution_count": null,
   "metadata": {},
   "outputs": [],
   "source": [
    "from track_utils_3_0_2 import *"
   ]
  },
  {
   "cell_type": "code",
   "execution_count": null,
   "metadata": {},
   "outputs": [],
   "source": [
    "with h5py.File('D:/Tracking/Videos/20250530_UMN026/3/20250530_UMN026_3_2.h5', 'r') as hf:\n",
    "    video = hf['data'][:]"
   ]
  },
  {
   "cell_type": "code",
   "execution_count": 62,
   "metadata": {},
   "outputs": [],
   "source": [
    "view(video)"
   ]
  },
  {
   "cell_type": "code",
   "execution_count": null,
   "metadata": {},
   "outputs": [],
   "source": [
    "imgs, saturations, MCV, x, hbmass= main_run(video)"
   ]
  },
  {
   "cell_type": "code",
   "execution_count": null,
   "metadata": {},
   "outputs": [],
   "source": [
    "sat=np.stack( saturations, axis=0 )\n",
    "MCVs=np.stack( MCV, axis=0 )\n",
    "MCHs=np.stack( hbmass, axis=0 )\n",
    "sat[(sat > 1) | (sat < -0.2)] = np.nan\n",
    "MCHC=(MCHs/MCV)*(10**14)\n",
    "MCVs[(MCVs > 150) | (MCVs < 30)] = np.nan\n",
    "MCHs[(MCHs > 5e-11) | (MCHs < -0)] = np.nan\n",
    "MCHs=MCHs*1e12\n",
    "d = {'sat': sat, 'MCV': MCVs, 'MCH': MCHs, 'MCHC': MCHC}\n",
    "sat_df = pd.DataFrame(data=d)\n",
    "sat_df=sat_df.dropna()\n",
    "sat_df['sat_mean']=sat_df['sat'].rolling(window=20).mean() \n",
    "sat_df['MCV_mean']=sat_df['MCV'].rolling(window=20).mean() \n",
    "sat_df['MCHC_mean']=sat_df['MCHC'].rolling(window=20).mean() \n",
    "sat_df['MCH_mean']=sat_df['MCH'].rolling(window=20).mean() \n",
    "fig, ax = plt.subplots()\n",
    "# ax.set_ylim(0, 1)\n",
    "plt.plot(sat_df['sat'])"
   ]
  },
  {
   "cell_type": "code",
   "execution_count": null,
   "metadata": {},
   "outputs": [],
   "source": [
    "model=keras.models.load_model('CNN/model_ResNet50_A01.h5', safe_mode=False) #load the model\n",
    "preds=CNN(imgs,model)"
   ]
  }
 ],
 "metadata": {
  "kernelspec": {
   "display_name": ".venv",
   "language": "python",
   "name": "python3"
  },
  "language_info": {
   "codemirror_mode": {
    "name": "ipython",
    "version": 3
   },
   "file_extension": ".py",
   "mimetype": "text/x-python",
   "name": "python",
   "nbconvert_exporter": "python",
   "pygments_lexer": "ipython3",
   "version": "3.10.0"
  }
 },
 "nbformat": 4,
 "nbformat_minor": 2
}
