{
 "cells": [
  {
   "cell_type": "code",
   "execution_count": 9,
   "metadata": {},
   "outputs": [],
   "source": [
    "from track_utils_3_0_1 import *"
   ]
  },
  {
   "cell_type": "code",
   "execution_count": null,
   "metadata": {},
   "outputs": [],
   "source": [
    "cells, cell_path = batch_analyze('D:/Tracking/Videos/20250318_MGH2118/cycle/vids/*.h5')\n",
    "cells21, cell_path21 = batch_analyze('D:/Tracking/Videos/20250318_MGH2118/cycle21/vids/*.h5')\n",
    "cells0, cell_path0 = batch_analyze('D:/Tracking/Videos/20250318_MGH2118/cycle0/vids/*.h5')"
   ]
  },
  {
   "cell_type": "code",
   "execution_count": 3,
   "metadata": {},
   "outputs": [],
   "source": [
    "sat_df=sat_data(cells, cell_path)\n",
    "sat21_df=sat_data(cells21, cell_path21)\n",
    "sat0_df=sat_data(cells0, cell_path0)"
   ]
  },
  {
   "cell_type": "code",
   "execution_count": 10,
   "metadata": {},
   "outputs": [],
   "source": [
    "sat0_df['avg'] = sat0_df.mean(axis=1)\n",
    "sat21_df['avg'] = sat21_df.mean(axis=1)\n",
    "\n",
    "norm0=sat0_df['avg']\n",
    "norm21=sat21_df['avg']"
   ]
  },
  {
   "cell_type": "code",
   "execution_count": null,
   "metadata": {},
   "outputs": [],
   "source": [
    "sat_roll=moving_norm(sat_df,norm0, norm21)"
   ]
  },
  {
   "cell_type": "code",
   "execution_count": null,
   "metadata": {},
   "outputs": [],
   "source": [
    "plot_data(sat_roll, False, 8,4)"
   ]
  }
 ],
 "metadata": {
  "kernelspec": {
   "display_name": ".venv",
   "language": "python",
   "name": "python3"
  },
  "language_info": {
   "codemirror_mode": {
    "name": "ipython",
    "version": 3
   },
   "file_extension": ".py",
   "mimetype": "text/x-python",
   "name": "python",
   "nbconvert_exporter": "python",
   "pygments_lexer": "ipython3",
   "version": "3.10.0"
  }
 },
 "nbformat": 4,
 "nbformat_minor": 2
}
