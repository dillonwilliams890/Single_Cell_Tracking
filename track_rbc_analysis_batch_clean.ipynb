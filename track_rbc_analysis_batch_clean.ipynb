{
 "cells": [
  {
   "cell_type": "code",
   "execution_count": null,
   "metadata": {},
   "outputs": [],
   "source": [
    "from track_utils_3_1_0 import *"
   ]
  },
  {
   "cell_type": "code",
   "execution_count": null,
   "metadata": {},
   "outputs": [],
   "source": [
    "cells2, cell_path2 = batch_analyze('D:/Tracking/Videos/20250710_MGH2171/2/*.h5')\n",
    "\n",
    "cells21, cell_path21 = batch_analyze('D:/Tracking/Videos/20250710_MGH2171/21/*.h5')\n",
    "cells0, cell_path0 = batch_analyze('D:/Tracking/Videos/20250710_MGH2171/0/*.h5')"
   ]
  },
  {
   "cell_type": "code",
   "execution_count": null,
   "metadata": {},
   "outputs": [],
   "source": [
    "sat2_df, vol2_df, mass2_df, conc2_df, pred2_df, class2_df, pos2_df=sat_data(cells2, cell_path2, 0.5)\n",
    "sat21_df, vol21_df, mass21_df, conc21_df, pred21_df, class21_df, pos21_df=sat_data(cells21, cell_path21, 0.5)\n",
    "sat0_df, vol0_df, mass0_df, conc0_df, pred0_df, class0_df, pos0_df=sat_data(cells0, cell_path0,0.5)"
   ]
  },
  {
   "cell_type": "code",
   "execution_count": 15,
   "metadata": {},
   "outputs": [],
   "source": [
    "sat0_df['avg'] = sat0_df.mean(axis=1)\n",
    "sat21_df['avg'] = sat21_df.mean(axis=1)\n",
    "\n",
    "norm0=sat0_df['avg']\n",
    "norm21=sat21_df['avg']"
   ]
  },
  {
   "cell_type": "code",
   "execution_count": null,
   "metadata": {},
   "outputs": [],
   "source": [
    "sat_roll=moving_norm(sat4_df,norm0, norm21)\n",
    "sat_cal=calibrate(sat_roll)\n",
    "sat_cal=sat_cal.apply(lambda x: np.where(x < -0.1,np.nan,x))\n",
    "sat_cal=sat_cal.apply(lambda x: np.where(x > 1.1,np.nan,x))\n",
    "sat_cal_smooth=sat_cal.rolling(window=1).mean() \n",
    "d=plot_sat_data(sat_cal_smooth, True, 30,4)"
   ]
  },
  {
   "cell_type": "code",
   "execution_count": 20,
   "metadata": {},
   "outputs": [],
   "source": [
    "fits_4=pd.DataFrame(d)\n",
    "class4_df_T=class4_df.transpose()\n",
    "class4_df_T.columns=['sickled']\n",
    "fits_4.reset_index(drop=True, inplace=True)\n",
    "class4_df_T.reset_index(drop=True, inplace=True)\n",
    "fits_4=pd.concat([fits_4,class4_df_T],axis=1)"
   ]
  },
  {
   "cell_type": "code",
   "execution_count": null,
   "metadata": {},
   "outputs": [],
   "source": [
    "path='tracking_data/20250730_MGH2178.h5'\n",
    "oxy=[0,2,3,4,5,21]\n",
    "for i in oxy:\n",
    "    vars()['sat' + str(i)+'_df'].to_hdf(path, key='sat'+str(i)+'_df', mode='a')\n",
    "    vars()['vol' + str(i)+'_df'].to_hdf(path, key='vol'+str(i)+'_df', mode='a')\n",
    "    vars()['mass' + str(i)+'_df'].to_hdf(path, key='mass'+str(i)+'_df', mode='a')\n",
    "    vars()['conc' + str(i)+'_df'].to_hdf(path, key='conc'+str(i)+'_df', mode='a')\n",
    "    vars()['pred' + str(i)+'_df'].to_hdf(path, key='pred'+str(i)+'_df', mode='a')\n",
    "    vars()['class' + str(i)+'_df'].to_hdf(path, key='class'+str(i)+'_df', mode='a')\n",
    "    vars()['pos' + str(i)+'_df'].to_hdf(path, key='pos'+str(i)+'_df', mode='a')"
   ]
  },
  {
   "cell_type": "code",
   "execution_count": null,
   "metadata": {},
   "outputs": [],
   "source": [
    "path='tracking_data/20250530_UMN026_2.h5'\n",
    "oxy=[0,3,4,21]\n",
    "for i in oxy:\n",
    "    print(i)\n",
    "    vars()['sat' + str(i)+'_df']=pd.read_hdf(path, 'sat'+str(i)+'_df')\n",
    "    vars()['vol' + str(i)+'_df']=pd.read_hdf(path, 'vol'+str(i)+'_df')\n",
    "    vars()['mass' + str(i)+'_df']=pd.read_hdf(path, 'mass'+str(i)+'_df')\n",
    "    vars()['conc' + str(i)+'_df']=pd.read_hdf(path, 'conc'+str(i)+'_df')\n",
    "    vars()['pred' + str(i)+'_df']=pd.read_hdf(path, 'pred'+str(i)+'_df')\n",
    "    vars()['class' + str(i)+'_df']=pd.read_hdf(path, 'class'+str(i)+'_df')\n",
    "    vars()['class' + str(i)+'_df']=pd.read_hdf(path, 'pos'+str(i)+'_df')"
   ]
  }
 ],
 "metadata": {
  "kernelspec": {
   "display_name": ".venv",
   "language": "python",
   "name": "python3"
  },
  "language_info": {
   "codemirror_mode": {
    "name": "ipython",
    "version": 3
   },
   "file_extension": ".py",
   "mimetype": "text/x-python",
   "name": "python",
   "nbconvert_exporter": "python",
   "pygments_lexer": "ipython3",
   "version": "3.10.0"
  }
 },
 "nbformat": 4,
 "nbformat_minor": 2
}
