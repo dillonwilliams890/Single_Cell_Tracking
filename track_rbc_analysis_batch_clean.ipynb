{
 "cells": [
  {
   "cell_type": "code",
   "execution_count": 1,
   "metadata": {},
   "outputs": [
    {
     "name": "stdout",
     "output_type": "stream",
     "text": [
      "WARNING:tensorflow:From c:\\Users\\will6605\\Documents\\vscode\\.venv\\lib\\site-packages\\keras\\src\\losses.py:2976: The name tf.losses.sparse_softmax_cross_entropy is deprecated. Please use tf.compat.v1.losses.sparse_softmax_cross_entropy instead.\n",
      "\n"
     ]
    }
   ],
   "source": [
    "from track_utils_3_0_2 import *"
   ]
  },
  {
   "cell_type": "code",
   "execution_count": null,
   "metadata": {},
   "outputs": [],
   "source": [
    "# cells2, cell_path2 = batch_analyze('D:/Tracking/Videos/20250710_MGH2171/2/*.h5')\n",
    "cells4, cell_path4 = batch_analyze('D:/Tracking/Videos/20250710_MGH2171/4/*.h5')\n",
    "cells3, cell_path3 = batch_analyze('D:/Tracking/Videos/20250710_MGH2171/3/*.h5')\n",
    "\n",
    "cells21, cell_path21 = batch_analyze('D:/Tracking/Videos/20250710_MGH2171/21/*.h5')\n",
    "cells0, cell_path0 = batch_analyze('D:/Tracking/Videos/20250710_MGH2171/0/*.h5')"
   ]
  },
  {
   "cell_type": "code",
   "execution_count": null,
   "metadata": {},
   "outputs": [],
   "source": [
    "cells4, cell_path4 = batch_analyze('D:/Tracking/Videos/20250530_UMN026/4/*.h5')"
   ]
  },
  {
   "cell_type": "code",
   "execution_count": 14,
   "metadata": {},
   "outputs": [
    {
     "name": "stderr",
     "output_type": "stream",
     "text": [
      "C:\\Users\\will6605\\AppData\\Local\\Temp\\ipykernel_12884\\3000144352.py:17: RuntimeWarning: divide by zero encountered in divide\n",
      "  MCHC=(MCHs/MCVs)*(10**14)\n"
     ]
    }
   ],
   "source": [
    "# sat2_df, vol2_df, mass2_df, conc2_df, pred2_df, class2_df=sat_data(cells2, cell_path2)\n",
    "sat3_df, vol3_df, mass3_df, conc3_df, pred3_df, class3_df=sat_data(cells3, cell_path3)\n",
    "sat4_df, vol4_df, mass4_df, conc4_df, pred4_df, class4_df=sat_data(cells4, cell_path4)\n",
    "sat21_df, vol21_df, mass21_df, conc21_df, pred21_df, class21_df=sat_data(cells21, cell_path21)\n",
    "sat0_df, vol0_df, mass0_df, conc0_df, pred0_df, class0_df=sat_data(cells0, cell_path0)"
   ]
  },
  {
   "cell_type": "code",
   "execution_count": 15,
   "metadata": {},
   "outputs": [],
   "source": [
    "sat0_df['avg'] = sat0_df.mean(axis=1)\n",
    "sat21_df['avg'] = sat21_df.mean(axis=1)\n",
    "\n",
    "norm0=sat0_df['avg']\n",
    "norm21=sat21_df['avg']"
   ]
  },
  {
   "cell_type": "code",
   "execution_count": null,
   "metadata": {},
   "outputs": [],
   "source": [
    "pred4_df_roll=pred4_df.rolling(window=80).mean() \n",
    "i=0\n",
    "rows=20\n",
    "cols=2\n",
    "fig, axs = plt.subplots(rows,cols, figsize=(cols*3, rows*3), facecolor='w', edgecolor='k')\n",
    "fig.subplots_adjust(hspace = .5, wspace=.001)\n",
    "axs = axs.ravel()\n",
    "for series_name, series in pred4_df_roll.items():\n",
    "    y=np.asarray(series[10:-100])\n",
    "    ys=y[~np.isnan(y)]\n",
    "    xs=np.linspace(0, (2*len(ys)/333),len(ys))\n",
    "    axs[i].plot(xs, ys, '-', label=\"data\")\n",
    "                # axs[i].plot(xs, linear(xs,m,b), '--', label=\"fitted\")\n",
    "    axs[i].set_ylim([-0.2, 1.1])\n",
    "    i=i+1"
   ]
  },
  {
   "cell_type": "code",
   "execution_count": null,
   "metadata": {},
   "outputs": [],
   "source": [
    "sat_roll=moving_norm(sat4_df,norm0, norm21)\n",
    "sat_cal=calibrate(sat_roll)\n",
    "sat_cal=sat_cal.apply(lambda x: np.where(x < -0.1,np.nan,x))\n",
    "sat_cal=sat_cal.apply(lambda x: np.where(x > 1.1,np.nan,x))\n",
    "sat_cal_smooth=sat_cal.rolling(window=1).mean() \n",
    "d=plot_data(sat_cal_smooth, True, 30,4)"
   ]
  },
  {
   "cell_type": "code",
   "execution_count": 20,
   "metadata": {},
   "outputs": [],
   "source": [
    "fits_4=pd.DataFrame(d)\n",
    "class4_df_T=class4_df.transpose()\n",
    "class4_df_T.columns=['sickled']\n",
    "fits_4.reset_index(drop=True, inplace=True)\n",
    "class4_df_T.reset_index(drop=True, inplace=True)\n",
    "fits_4=pd.concat([fits_4,class4_df_T],axis=1)"
   ]
  },
  {
   "cell_type": "code",
   "execution_count": null,
   "metadata": {},
   "outputs": [
    {
     "name": "stdout",
     "output_type": "stream",
     "text": [
      "0\n",
      "3\n",
      "4\n",
      "21\n"
     ]
    }
   ],
   "source": [
    "path='tracking_data/20250710_MGH2171.h5'\n",
    "oxy=[0,3,4,21]\n",
    "for i in oxy:\n",
    "    vars()['sat' + str(i)+'_df'].to_hdf(path, key='sat'+str(i)+'_df', mode='a')\n",
    "    vars()['vol' + str(i)+'_df'].to_hdf(path, key='vol'+str(i)+'_df', mode='a')\n",
    "    vars()['mass' + str(i)+'_df'].to_hdf(path, key='mass'+str(i)+'_df', mode='a')\n",
    "    vars()['conc' + str(i)+'_df'].to_hdf(path, key='conc'+str(i)+'_df', mode='a')\n",
    "    vars()['pred' + str(i)+'_df'].to_hdf(path, key='pred'+str(i)+'_df', mode='a')\n",
    "    vars()['class' + str(i)+'_df'].to_hdf(path, key='class'+str(i)+'_df', mode='a')"
   ]
  },
  {
   "cell_type": "code",
   "execution_count": 38,
   "metadata": {},
   "outputs": [],
   "source": [
    "sat0_df_test=pd.read_hdf('tracking_data/20250530_UMN026.h5', 'sat0_df')  "
   ]
  }
 ],
 "metadata": {
  "kernelspec": {
   "display_name": ".venv",
   "language": "python",
   "name": "python3"
  },
  "language_info": {
   "codemirror_mode": {
    "name": "ipython",
    "version": 3
   },
   "file_extension": ".py",
   "mimetype": "text/x-python",
   "name": "python",
   "nbconvert_exporter": "python",
   "pygments_lexer": "ipython3",
   "version": "3.10.0"
  }
 },
 "nbformat": 4,
 "nbformat_minor": 2
}
