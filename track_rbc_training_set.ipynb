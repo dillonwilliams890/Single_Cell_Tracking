{
 "cells": [
  {
   "cell_type": "code",
   "execution_count": null,
   "id": "c2407b7a",
   "metadata": {},
   "outputs": [],
   "source": [
    "from track_utils_3_1_0 import *"
   ]
  },
  {
   "cell_type": "code",
   "execution_count": null,
   "id": "815d7e9b",
   "metadata": {},
   "outputs": [],
   "source": [
    "batch_image('E:/Tracking/Videos/20250730_MGH2178/21/vids/*.h5')"
   ]
  },
  {
   "cell_type": "code",
   "execution_count": null,
   "id": "51d5b0cd",
   "metadata": {},
   "outputs": [],
   "source": [
    "source_dir='CNN/dataset_tracking_2025/FULL_DATA/SOLY/'\n",
    "dest_dir='CNN/dataset_tracking_2025/DATA/SOLY/'\n",
    "sub_fraction=0.01\n",
    "subsample_images(source_dir, dest_dir, sub_fraction)"
   ]
  }
 ],
 "metadata": {
  "language_info": {
   "name": "python"
  }
 },
 "nbformat": 4,
 "nbformat_minor": 5
}
